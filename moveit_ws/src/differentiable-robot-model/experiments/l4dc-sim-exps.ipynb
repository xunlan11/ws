{
 "cells": [
  {
   "cell_type": "markdown",
   "metadata": {},
   "source": [
    "# Illustration of experiments\n",
    "These experiments are similar in nature to what we presented in our L4DC paper (results there are averaged across multiple seeds, and collected data in a different manner).\n",
    "We compare a simple MLP to two variations of our differentiable and learnable robot model on simulated data."
   ]
  },
  {
   "cell_type": "code",
   "execution_count": null,
   "metadata": {},
   "outputs": [],
   "source": [
    "import numpy as np\n",
    "import torch\n",
    "import random\n",
    "import os\n",
    "from tqdm import tqdm\n",
    "\n",
    "from hydra.experimental import compose as hydra_compose\n",
    "from hydra.experimental import initialize_config_dir\n",
    "\n",
    "from differentiable_robot_model.differentiable_robot_model import DifferentiableRobotModel\n",
    "from differentiable_robot_model.data_generation_utils import generate_sine_motion_inverse_dynamics_data\n",
    "from torch.utils.data import DataLoader\n",
    "\n",
    "torch.set_printoptions(precision=3, sci_mode=False)\n",
    "\n",
    "random.seed(0)\n",
    "np.random.seed(1) # seeds the data generation\n",
    "torch.manual_seed(0)"
   ]
  },
  {
   "cell_type": "code",
   "execution_count": null,
   "metadata": {},
   "outputs": [],
   "source": [
    "# Normalized Mean-Squared Error Loss\n",
    "class NMSELoss(torch.nn.Module):\n",
    "    def __init__(self, var):\n",
    "        super(NMSELoss, self).__init__()\n",
    "        self.var = var\n",
    "    def forward(self, yp, yt):\n",
    "        err = (yp - yt)**2\n",
    "        werr = err/self.var\n",
    "        return werr.mean()\n",
    "\n",
    "# Simple Multi-Layer Perceptron \n",
    "class SimpleMLP(torch.nn.Module):\n",
    "    def __init__(self, in_dim, out_dim):\n",
    "        super(SimpleMLP, self).__init__()\n",
    "        self.in_dim = in_dim\n",
    "        self.out_dim = out_dim\n",
    "        self.layers = torch.nn.Sequential(\n",
    "            torch.nn.Linear(self.in_dim, 250),\n",
    "            torch.nn.ReLU(),\n",
    "            torch.nn.Linear(250, 250),\n",
    "            torch.nn.ReLU(),\n",
    "            torch.nn.Linear(250, 100),\n",
    "            torch.nn.ReLU(),\n",
    "            torch.nn.Linear(100, self.out_dim),\n",
    "        )\n",
    "\n",
    "    def forward(self, q, qd, qdd_des):\n",
    "        x = torch.cat([q, qd, qdd_des], dim=1)\n",
    "        y = self.layers(x)\n",
    "        return y"
   ]
  },
  {
   "cell_type": "markdown",
   "metadata": {},
   "source": [
    "# Loading of Robot Model (kuka iiwa)"
   ]
  },
  {
   "cell_type": "code",
   "execution_count": 1,
   "metadata": {},
   "outputs": [],
   "source": [
    "\n",
    "abs_config_dir=os.path.abspath(\"../conf\")\n",
    "with initialize_config_dir(config_dir=abs_config_dir):\n",
    "    # we load a ground truth robot model (with the correct parameters) to generate data\n",
    "    gt_robot_model_cfg = hydra_compose(config_name=\"torch_robot_model_gt.yaml\")\n",
    "    # and 2 versions of a learnable robot model\n",
    "    # without physical constraints on rigid body params\n",
    "    learnable_robot_no_constraints_cfg = hydra_compose(config_name=\"torch_robot_model_learnable_l4dc_no_constraints.yaml\")\n",
    "    # with physical constraints on rigid body params\n",
    "    learnable_robot_constraints_cfg = hydra_compose(config_name=\"torch_robot_model_learnable_l4dc_constraints.yaml\")"
   ]
  },
  {
   "cell_type": "markdown",
   "metadata": {},
   "source": [
    "# Training\n",
    "2 training routines for training the robot model, and for training a MLP"
   ]
  },
  {
   "cell_type": "code",
   "execution_count": 2,
   "metadata": {
    "pycharm": {
     "name": "#%%\n"
    }
   },
   "outputs": [],
   "source": [
    "\n",
    "def train_robot_model(robot_model, train_data, test_data, lr, n_epochs, debug_print=False):\n",
    "    train_loader = DataLoader(dataset=train_data, batch_size=256, shuffle=False)\n",
    "    loss_fn = NMSELoss(train_data.var())\n",
    "    opt = torch.optim.Adam(robot_model.parameters(), lr=1e-2)\n",
    "    train_loss = []\n",
    "    test_loss= []\n",
    "    for i in range(50):\n",
    "        losses = []\n",
    "        for batch_idx, batch_data in enumerate(tqdm(train_loader)):\n",
    "            q, qd, qdd_des, tau = batch_data\n",
    "            opt.zero_grad()\n",
    "            tau_pred = robot_model.compute_inverse_dynamics(q, qd, qdd_des)\n",
    "            loss = loss_fn(tau_pred, tau)\n",
    "            loss.backward()\n",
    "            opt.step()\n",
    "            losses.append(loss.item())\n",
    "            \n",
    "        train_loss.append(np.mean(losses))\n",
    "        if debug_print:\n",
    "            print(\"epoch: {}, loss: {}\".format(i, train_loss[-1]))\n",
    "        # test\n",
    "        test_q, test_qd, test_qdd_des, test_tau = test_data.data['q'], test_data.data['qd'], test_data.data['qdd_des'], test_data.data['tau']\n",
    "        test_tau_pred = robot_model.compute_inverse_dynamics(test_q, test_qd, test_qdd_des)\n",
    "        test_loss.append(loss_fn(test_tau_pred, test_tau).item())\n",
    "    return train_loss, test_loss\n",
    "\n",
    "def train_mlp(model, train_data, test_data, lr, n_epochs, debug_print=False):\n",
    "    train_loader = DataLoader(dataset=train_data, batch_size=256, shuffle=False)\n",
    "    loss_fn = NMSELoss(train_data.var())\n",
    "    opt = torch.optim.Adam(model.parameters(), lr=lr)\n",
    "    train_loss = []\n",
    "    test_loss= []\n",
    "    for i in range(n_epochs):\n",
    "        losses = []\n",
    "        for batch_idx, batch_data in enumerate(tqdm(train_loader)):\n",
    "            q, qd, qdd_des, tau = batch_data\n",
    "            opt.zero_grad()\n",
    "            tau_pred = model(q, qd, qdd_des)\n",
    "            loss = loss_fn(tau_pred, tau)\n",
    "            loss.backward()\n",
    "            opt.step()\n",
    "            losses.append(loss.item())\n",
    "            \n",
    "        train_loss.append(np.mean(losses))\n",
    "        if debug_print:\n",
    "            print(\"epoch: {}, loss: {}\".format(i, train_loss[-1]))\n",
    "        # test\n",
    "        test_q, test_qd, test_qdd_des, test_tau = test_data.data['q'], test_data.data['qd'], test_data.data['qdd_des'], test_data.data['tau']\n",
    "        test_tau_pred = model(test_q, test_qd, test_qdd_des)\n",
    "        test_loss.append(loss_fn(test_tau_pred, test_tau).item())\n",
    "    return train_loss, test_loss\n"
   ]
  },
  {
   "cell_type": "markdown",
   "metadata": {},
   "source": [
    "# Data Generation\n",
    "we use the ground truth robot model to generate training and test data. Here we generate data along a trajectory (sine motion trajectory) - which is how we would typically collect data on a real robot."
   ]
  },
  {
   "cell_type": "code",
   "execution_count": 3,
   "metadata": {
    "pycharm": {
     "name": "#%%\n"
    }
   },
   "outputs": [
    {
     "name": "stderr",
     "output_type": "stream",
     "text": [
      "Unknown tag: material\n",
      "Unknown tag: self_collision_checking\n",
      "Unknown tag: material\n",
      "Unknown tag: material\n",
      "Unknown tag: material\n",
      "Unknown tag: material\n",
      "Unknown tag: material\n",
      "Unknown tag: material\n",
      "Unknown tag: material\n",
      "Unknown tag: hardwareInterface\n",
      "Unknown tag: robotNamespace\n",
      "Unknown tag: hardwareInterface\n",
      "Unknown tag: robotNamespace\n",
      "Unknown tag: hardwareInterface\n",
      "Unknown tag: robotNamespace\n",
      "Unknown tag: hardwareInterface\n",
      "Unknown tag: robotNamespace\n",
      "Unknown tag: hardwareInterface\n",
      "Unknown tag: robotNamespace\n",
      "Unknown tag: hardwareInterface\n",
      "Unknown tag: robotNamespace\n",
      "Unknown tag: hardwareInterface\n",
      "Unknown tag: robotNamespace\n"
     ]
    }
   ],
   "source": [
    "gt_robot_model = DifferentiableRobotModel(**gt_robot_model_cfg.model)\n",
    "train_data = generate_sine_motion_inverse_dynamics_data(gt_robot_model, n_data=10000, dt=1.0/250.0, freq=0.1)\n",
    "test_data = generate_sine_motion_inverse_dynamics_data(gt_robot_model, n_data=10000, dt=1.0/250.0, freq=0.2)"
   ]
  },
  {
   "cell_type": "markdown",
   "metadata": {},
   "source": [
    "# Training\n",
    "We now train all 3 models (MLP, robot model without physical constraints and robot model with physical constraints)"
   ]
  },
  {
   "cell_type": "code",
   "execution_count": 4,
   "metadata": {},
   "outputs": [
    {
     "name": "stderr",
     "output_type": "stream",
     "text": [
      "100%|██████████| 40/40 [00:00<00:00, 120.30it/s]\n",
      "100%|██████████| 40/40 [00:00<00:00, 139.16it/s]\n",
      "100%|██████████| 40/40 [00:00<00:00, 121.71it/s]\n",
      "100%|██████████| 40/40 [00:00<00:00, 129.77it/s]\n",
      "100%|██████████| 40/40 [00:00<00:00, 124.38it/s]\n",
      "100%|██████████| 40/40 [00:00<00:00, 121.36it/s]\n",
      "100%|██████████| 40/40 [00:00<00:00, 119.80it/s]\n",
      "100%|██████████| 40/40 [00:00<00:00, 103.83it/s]\n",
      "100%|██████████| 40/40 [00:00<00:00, 111.53it/s]\n",
      "100%|██████████| 40/40 [00:00<00:00, 126.61it/s]\n",
      "100%|██████████| 40/40 [00:00<00:00, 119.02it/s]\n",
      "100%|██████████| 40/40 [00:00<00:00, 120.07it/s]\n",
      "100%|██████████| 40/40 [00:00<00:00, 119.31it/s]\n",
      "100%|██████████| 40/40 [00:00<00:00, 127.45it/s]\n",
      "100%|██████████| 40/40 [00:00<00:00, 130.54it/s]\n",
      "100%|██████████| 40/40 [00:00<00:00, 126.32it/s]\n",
      "100%|██████████| 40/40 [00:00<00:00, 135.26it/s]\n",
      "100%|██████████| 40/40 [00:00<00:00, 136.15it/s]\n",
      "100%|██████████| 40/40 [00:00<00:00, 132.46it/s]\n",
      "100%|██████████| 40/40 [00:00<00:00, 135.48it/s]\n",
      "100%|██████████| 40/40 [00:00<00:00, 126.08it/s]\n",
      "100%|██████████| 40/40 [00:00<00:00, 134.96it/s]\n",
      "100%|██████████| 40/40 [00:00<00:00, 135.52it/s]\n",
      "100%|██████████| 40/40 [00:00<00:00, 126.21it/s]\n",
      "100%|██████████| 40/40 [00:00<00:00, 136.86it/s]\n",
      "100%|██████████| 40/40 [00:00<00:00, 134.52it/s]\n",
      "100%|██████████| 40/40 [00:00<00:00, 132.51it/s]\n",
      "100%|██████████| 40/40 [00:00<00:00, 133.31it/s]\n",
      "100%|██████████| 40/40 [00:00<00:00, 125.15it/s]\n",
      "100%|██████████| 40/40 [00:00<00:00, 134.28it/s]\n",
      "100%|██████████| 40/40 [00:00<00:00, 135.02it/s]\n",
      "100%|██████████| 40/40 [00:00<00:00, 124.71it/s]\n",
      "100%|██████████| 40/40 [00:00<00:00, 132.98it/s]\n",
      "100%|██████████| 40/40 [00:00<00:00, 132.76it/s]\n",
      "100%|██████████| 40/40 [00:00<00:00, 134.44it/s]\n",
      "100%|██████████| 40/40 [00:00<00:00, 121.82it/s]\n",
      "100%|██████████| 40/40 [00:00<00:00, 130.83it/s]\n",
      "100%|██████████| 40/40 [00:00<00:00, 128.50it/s]\n",
      "100%|██████████| 40/40 [00:00<00:00, 116.47it/s]\n",
      "100%|██████████| 40/40 [00:00<00:00, 128.02it/s]\n",
      "100%|██████████| 40/40 [00:00<00:00, 129.89it/s]\n",
      "100%|██████████| 40/40 [00:00<00:00, 131.69it/s]\n",
      "100%|██████████| 40/40 [00:00<00:00, 132.50it/s]\n",
      "100%|██████████| 40/40 [00:00<00:00, 119.45it/s]\n",
      "100%|██████████| 40/40 [00:00<00:00, 125.38it/s]\n",
      "100%|██████████| 40/40 [00:00<00:00, 130.82it/s]\n",
      "100%|██████████| 40/40 [00:00<00:00, 121.69it/s]\n",
      "100%|██████████| 40/40 [00:00<00:00, 126.64it/s]\n",
      "100%|██████████| 40/40 [00:00<00:00, 128.17it/s]\n",
      "100%|██████████| 40/40 [00:00<00:00, 130.78it/s]\n"
     ]
    }
   ],
   "source": [
    "# the mlp seems to train better with lr=1e-3 (while for robot models we use 1e-2)\n",
    "simple_mlp = SimpleMLP(in_dim=21, out_dim=7)\n",
    "train_loss_mlp, test_loss_mlp = train_mlp(simple_mlp, train_data, test_data, lr=1e-3, n_epochs=50)"
   ]
  },
  {
   "cell_type": "code",
   "execution_count": 5,
   "metadata": {},
   "outputs": [
    {
     "name": "stderr",
     "output_type": "stream",
     "text": [
      "Unknown tag: material\n",
      "Unknown tag: self_collision_checking\n",
      "Unknown tag: material\n",
      "Unknown tag: material\n",
      "Unknown tag: material\n",
      "Unknown tag: material\n",
      "Unknown tag: material\n",
      "Unknown tag: material\n",
      "Unknown tag: material\n",
      "Unknown tag: hardwareInterface\n",
      "Unknown tag: robotNamespace\n",
      "Unknown tag: hardwareInterface\n",
      "Unknown tag: robotNamespace\n",
      "Unknown tag: hardwareInterface\n",
      "Unknown tag: robotNamespace\n",
      "Unknown tag: hardwareInterface\n",
      "Unknown tag: robotNamespace\n",
      "Unknown tag: hardwareInterface\n",
      "Unknown tag: robotNamespace\n",
      "Unknown tag: hardwareInterface\n",
      "Unknown tag: robotNamespace\n",
      "Unknown tag: hardwareInterface\n",
      "Unknown tag: robotNamespace\n",
      "100%|██████████| 40/40 [00:02<00:00, 14.04it/s]\n",
      "100%|██████████| 40/40 [00:02<00:00, 14.29it/s]\n",
      "100%|██████████| 40/40 [00:02<00:00, 13.92it/s]\n",
      "100%|██████████| 40/40 [00:02<00:00, 14.35it/s]\n",
      "100%|██████████| 40/40 [00:02<00:00, 13.36it/s]\n",
      "100%|██████████| 40/40 [00:02<00:00, 14.15it/s]\n",
      "100%|██████████| 40/40 [00:02<00:00, 13.81it/s]\n",
      "100%|██████████| 40/40 [00:02<00:00, 13.70it/s]\n",
      "100%|██████████| 40/40 [00:02<00:00, 13.94it/s]\n",
      "100%|██████████| 40/40 [00:02<00:00, 13.88it/s]\n",
      "100%|██████████| 40/40 [00:03<00:00, 13.32it/s]\n",
      "100%|██████████| 40/40 [00:03<00:00, 12.92it/s]\n",
      "100%|██████████| 40/40 [00:02<00:00, 13.38it/s]\n",
      "100%|██████████| 40/40 [00:03<00:00, 13.13it/s]\n",
      "100%|██████████| 40/40 [00:03<00:00, 13.31it/s]\n",
      "100%|██████████| 40/40 [00:03<00:00, 13.09it/s]\n",
      "100%|██████████| 40/40 [00:03<00:00, 13.30it/s]\n",
      "100%|██████████| 40/40 [00:02<00:00, 13.40it/s]\n",
      "100%|██████████| 40/40 [00:03<00:00, 12.97it/s]\n",
      "100%|██████████| 40/40 [00:03<00:00, 13.01it/s]\n",
      "100%|██████████| 40/40 [00:03<00:00, 13.02it/s]\n",
      "100%|██████████| 40/40 [00:02<00:00, 13.44it/s]\n",
      "100%|██████████| 40/40 [00:02<00:00, 13.56it/s]\n",
      "100%|██████████| 40/40 [00:03<00:00, 13.15it/s]\n",
      "100%|██████████| 40/40 [00:02<00:00, 13.61it/s]\n",
      "100%|██████████| 40/40 [00:02<00:00, 13.77it/s]\n",
      "100%|██████████| 40/40 [00:02<00:00, 14.02it/s]\n",
      "100%|██████████| 40/40 [00:02<00:00, 13.87it/s]\n",
      "100%|██████████| 40/40 [00:02<00:00, 14.03it/s]\n",
      "100%|██████████| 40/40 [00:02<00:00, 14.15it/s]\n",
      "100%|██████████| 40/40 [00:02<00:00, 13.56it/s]\n",
      "100%|██████████| 40/40 [00:02<00:00, 14.08it/s]\n",
      "100%|██████████| 40/40 [00:02<00:00, 14.37it/s]\n",
      "100%|██████████| 40/40 [00:02<00:00, 14.52it/s]\n",
      "100%|██████████| 40/40 [00:02<00:00, 13.80it/s]\n",
      "100%|██████████| 40/40 [00:02<00:00, 13.70it/s]\n",
      "100%|██████████| 40/40 [00:02<00:00, 14.29it/s]\n",
      "100%|██████████| 40/40 [00:02<00:00, 14.17it/s]\n",
      "100%|██████████| 40/40 [00:02<00:00, 13.65it/s]\n",
      "100%|██████████| 40/40 [00:02<00:00, 14.29it/s]\n",
      "100%|██████████| 40/40 [00:02<00:00, 13.95it/s]\n",
      "100%|██████████| 40/40 [00:02<00:00, 13.93it/s]\n",
      "100%|██████████| 40/40 [00:02<00:00, 13.84it/s]\n",
      "100%|██████████| 40/40 [00:02<00:00, 13.92it/s]\n",
      "100%|██████████| 40/40 [00:02<00:00, 13.85it/s]\n",
      "100%|██████████| 40/40 [00:02<00:00, 14.24it/s]\n",
      "100%|██████████| 40/40 [00:02<00:00, 14.11it/s]\n",
      "100%|██████████| 40/40 [00:02<00:00, 14.01it/s]\n",
      "100%|██████████| 40/40 [00:02<00:00, 13.57it/s]\n",
      "100%|██████████| 40/40 [00:02<00:00, 14.14it/s]\n"
     ]
    }
   ],
   "source": [
    "learnable_robot_unconstr = DifferentiableRobotModel(**learnable_robot_no_constraints_cfg.model)\n",
    "train_loss_unconstr, test_loss_unconstr = train_robot_model(learnable_robot_unconstr, train_data, test_data, lr=1e-2, n_epochs=50)"
   ]
  },
  {
   "cell_type": "code",
   "execution_count": 6,
   "metadata": {
    "scrolled": true
   },
   "outputs": [
    {
     "name": "stderr",
     "output_type": "stream",
     "text": [
      "Unknown tag: material\n",
      "Unknown tag: self_collision_checking\n",
      "Unknown tag: material\n",
      "Unknown tag: material\n",
      "Unknown tag: material\n",
      "Unknown tag: material\n",
      "Unknown tag: material\n",
      "Unknown tag: material\n",
      "Unknown tag: material\n",
      "Unknown tag: hardwareInterface\n",
      "Unknown tag: robotNamespace\n",
      "Unknown tag: hardwareInterface\n",
      "Unknown tag: robotNamespace\n",
      "Unknown tag: hardwareInterface\n",
      "Unknown tag: robotNamespace\n",
      "Unknown tag: hardwareInterface\n",
      "Unknown tag: robotNamespace\n",
      "Unknown tag: hardwareInterface\n",
      "Unknown tag: robotNamespace\n",
      "Unknown tag: hardwareInterface\n",
      "Unknown tag: robotNamespace\n",
      "Unknown tag: hardwareInterface\n",
      "Unknown tag: robotNamespace\n",
      "100%|██████████| 40/40 [00:03<00:00, 11.31it/s]\n",
      "100%|██████████| 40/40 [00:03<00:00, 11.91it/s]\n",
      "100%|██████████| 40/40 [00:03<00:00, 11.70it/s]\n",
      "100%|██████████| 40/40 [00:03<00:00, 11.64it/s]\n",
      "100%|██████████| 40/40 [00:03<00:00, 11.43it/s]\n",
      "100%|██████████| 40/40 [00:03<00:00, 11.13it/s]\n",
      "100%|██████████| 40/40 [00:03<00:00, 11.32it/s]\n",
      "100%|██████████| 40/40 [00:03<00:00, 11.59it/s]\n",
      "100%|██████████| 40/40 [00:03<00:00, 11.15it/s]\n",
      "100%|██████████| 40/40 [00:03<00:00, 11.53it/s]\n",
      "100%|██████████| 40/40 [00:03<00:00, 11.10it/s]\n",
      "100%|██████████| 40/40 [00:03<00:00, 11.16it/s]\n",
      "100%|██████████| 40/40 [00:03<00:00, 11.05it/s]\n",
      "100%|██████████| 40/40 [00:03<00:00, 11.14it/s]\n",
      "100%|██████████| 40/40 [00:03<00:00, 11.23it/s]\n",
      "100%|██████████| 40/40 [00:03<00:00, 10.99it/s]\n",
      "100%|██████████| 40/40 [00:03<00:00, 10.96it/s]\n",
      "100%|██████████| 40/40 [00:03<00:00, 11.30it/s]\n",
      "100%|██████████| 40/40 [00:03<00:00, 11.47it/s]\n",
      "100%|██████████| 40/40 [00:03<00:00, 11.31it/s]\n",
      "100%|██████████| 40/40 [00:03<00:00, 11.00it/s]\n",
      "100%|██████████| 40/40 [00:03<00:00, 11.32it/s]\n",
      "100%|██████████| 40/40 [00:03<00:00, 11.29it/s]\n",
      "100%|██████████| 40/40 [00:03<00:00, 10.94it/s]\n",
      "100%|██████████| 40/40 [00:03<00:00, 10.71it/s]\n",
      "100%|██████████| 40/40 [00:03<00:00, 11.21it/s]\n",
      "100%|██████████| 40/40 [00:03<00:00, 10.87it/s]\n",
      "100%|██████████| 40/40 [00:03<00:00, 10.69it/s]\n",
      "100%|██████████| 40/40 [00:03<00:00, 11.04it/s]\n",
      "100%|██████████| 40/40 [00:03<00:00, 11.10it/s]\n",
      "100%|██████████| 40/40 [00:03<00:00, 11.08it/s]\n",
      "100%|██████████| 40/40 [00:03<00:00, 11.13it/s]\n",
      "100%|██████████| 40/40 [00:03<00:00, 10.81it/s]\n",
      "100%|██████████| 40/40 [00:03<00:00, 11.26it/s]\n",
      "100%|██████████| 40/40 [00:03<00:00, 11.10it/s]\n",
      "100%|██████████| 40/40 [00:03<00:00, 11.31it/s]\n",
      "100%|██████████| 40/40 [00:03<00:00, 11.06it/s]\n",
      "100%|██████████| 40/40 [00:03<00:00, 11.38it/s]\n",
      "100%|██████████| 40/40 [00:03<00:00, 11.00it/s]\n",
      "100%|██████████| 40/40 [00:03<00:00, 11.12it/s]\n",
      "100%|██████████| 40/40 [00:03<00:00, 10.84it/s]\n",
      "100%|██████████| 40/40 [00:03<00:00, 11.14it/s]\n",
      "100%|██████████| 40/40 [00:03<00:00, 11.07it/s]\n",
      "100%|██████████| 40/40 [00:03<00:00, 10.61it/s]\n",
      "100%|██████████| 40/40 [00:03<00:00, 11.18it/s]\n",
      "100%|██████████| 40/40 [00:03<00:00, 11.16it/s]\n",
      "100%|██████████| 40/40 [00:03<00:00, 11.21it/s]\n",
      "100%|██████████| 40/40 [00:03<00:00, 10.92it/s]\n",
      "100%|██████████| 40/40 [00:03<00:00, 10.95it/s]\n",
      "100%|██████████| 40/40 [00:03<00:00, 11.04it/s]\n"
     ]
    }
   ],
   "source": [
    "learnable_robot_constr = DifferentiableRobotModel(**learnable_robot_constrain_cfg.model)\n",
    "train_loss_constr, test_loss_constr = train_robot_model(learnable_robot_constr, train_data, test_data, lr=1e-2, n_epochs=50)"
   ]
  },
  {
   "cell_type": "markdown",
   "metadata": {},
   "source": [
    "# Results\n",
    "The learnable (structured) robot models outperform the simple mlp in generalizing to test data. The robot model with physical constraints on the parameters performs best."
   ]
  },
  {
   "cell_type": "code",
   "execution_count": 8,
   "metadata": {
    "pycharm": {
     "name": "#%%\n"
    }
   },
   "outputs": [
    {
     "data": {
      "text/plain": [
       "<matplotlib.legend.Legend at 0x7fc8bb407cd0>"
      ]
     },
     "execution_count": 8,
     "metadata": {},
     "output_type": "execute_result"
    },
    {
     "data": {
      "image/png": "[encoded data removed]",
      "text/plain": [
       "<Figure size 432x288 with 1 Axes>"
      ]
     },
     "metadata": {
      "needs_background": "light"
     },
     "output_type": "display_data"
    }
   ],
   "source": [
    "%matplotlib inline\n",
    "import matplotlib.pyplot as plt\n",
    "\n",
    "plt.semilogy(train_loss_unconstr, color='blue', label='robot model no constr, train')\n",
    "plt.semilogy(test_loss_unconstr, color='blue', linestyle='--', alpha=0.7, label='robot model no constr, test')\n",
    "plt.semilogy(train_loss_constr, color='green', label='robot model constr, train')\n",
    "plt.semilogy(test_loss_constr, color='green', linestyle='--',alpha=0.7, label='robot model constr, test')\n",
    "plt.semilogy(train_loss_mlp, color='orange', label='mlp, train')\n",
    "plt.semilogy(test_loss_mlp, color='orange', linestyle='--',alpha=0.7, label='mlp, test')\n",
    "plt.legend()"
   ]
  },
  {
   "cell_type": "code",
   "execution_count": null,
   "metadata": {},
   "outputs": [],
   "source": []
  }
 ],
 "metadata": {
  "kernelspec": {
   "display_name": "Python 3",
   "language": "python",
   "name": "python3"
  },
  "language_info": {
   "codemirror_mode": {
    "name": "ipython",
    "version": 3
   },
   "file_extension": ".py",
   "mimetype": "text/x-python",
   "name": "python",
   "nbconvert_exporter": "python",
   "pygments_lexer": "ipython3",
   "version": "3.7.9"
  }
 },
 "nbformat": 4,
 "nbformat_minor": 1
}
